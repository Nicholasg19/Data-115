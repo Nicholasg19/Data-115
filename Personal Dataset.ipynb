{
 "cells": [
  {
   "cell_type": "code",
   "execution_count": 1,
   "metadata": {},
   "outputs": [],
   "source": [
    "import numpy as np\n",
    "import pandas as pd\n",
    "from scipy.stats import norm,probplot\n",
    "from sklearn.linear_model import LinearRegression\n",
    "from sklearn.linear_model import LogisticRegression\n",
    "import matplotlib.pyplot as plt"
   ]
  },
  {
   "cell_type": "code",
   "execution_count": 2,
   "metadata": {},
   "outputs": [],
   "source": [
    "Player_df = pd.read_csv(\"Averages-and-Salaries.csv\")"
   ]
  },
  {
   "cell_type": "code",
   "execution_count": 3,
   "metadata": {},
   "outputs": [
    {
     "data": {
      "text/html": [
       "<div>\n",
       "<style scoped>\n",
       "    .dataframe tbody tr th:only-of-type {\n",
       "        vertical-align: middle;\n",
       "    }\n",
       "\n",
       "    .dataframe tbody tr th {\n",
       "        vertical-align: top;\n",
       "    }\n",
       "\n",
       "    .dataframe thead th {\n",
       "        text-align: right;\n",
       "    }\n",
       "</style>\n",
       "<table border=\"1\" class=\"dataframe\">\n",
       "  <thead>\n",
       "    <tr style=\"text-align: right;\">\n",
       "      <th></th>\n",
       "      <th>Pos</th>\n",
       "      <th>Avg Runs</th>\n",
       "      <th>Avg RBI</th>\n",
       "      <th>Avg BA</th>\n",
       "      <th>Avg OBP</th>\n",
       "      <th>Avg SLG</th>\n",
       "      <th>Avg Salary</th>\n",
       "    </tr>\n",
       "  </thead>\n",
       "  <tbody>\n",
       "    <tr>\n",
       "      <th>0</th>\n",
       "      <td>1B</td>\n",
       "      <td>16.809524</td>\n",
       "      <td>18.238095</td>\n",
       "      <td>0.213968</td>\n",
       "      <td>0.292286</td>\n",
       "      <td>0.388048</td>\n",
       "      <td>5800920</td>\n",
       "    </tr>\n",
       "    <tr>\n",
       "      <th>1</th>\n",
       "      <td>2B</td>\n",
       "      <td>14.590476</td>\n",
       "      <td>12.428571</td>\n",
       "      <td>0.235019</td>\n",
       "      <td>0.299457</td>\n",
       "      <td>0.359505</td>\n",
       "      <td>2823025</td>\n",
       "    </tr>\n",
       "    <tr>\n",
       "      <th>2</th>\n",
       "      <td>3B</td>\n",
       "      <td>15.561404</td>\n",
       "      <td>15.771930</td>\n",
       "      <td>0.219088</td>\n",
       "      <td>0.303123</td>\n",
       "      <td>0.370263</td>\n",
       "      <td>4676913</td>\n",
       "    </tr>\n",
       "    <tr>\n",
       "      <th>3</th>\n",
       "      <td>C</td>\n",
       "      <td>7.714286</td>\n",
       "      <td>8.419048</td>\n",
       "      <td>0.221914</td>\n",
       "      <td>0.296771</td>\n",
       "      <td>0.367019</td>\n",
       "      <td>1525453</td>\n",
       "    </tr>\n",
       "    <tr>\n",
       "      <th>4</th>\n",
       "      <td>DH</td>\n",
       "      <td>11.000000</td>\n",
       "      <td>12.809524</td>\n",
       "      <td>0.193905</td>\n",
       "      <td>0.284048</td>\n",
       "      <td>0.364333</td>\n",
       "      <td>11165000</td>\n",
       "    </tr>\n",
       "    <tr>\n",
       "      <th>5</th>\n",
       "      <td>OF</td>\n",
       "      <td>13.542453</td>\n",
       "      <td>12.537736</td>\n",
       "      <td>0.216255</td>\n",
       "      <td>0.297722</td>\n",
       "      <td>0.362566</td>\n",
       "      <td>3332529</td>\n",
       "    </tr>\n",
       "    <tr>\n",
       "      <th>6</th>\n",
       "      <td>SS</td>\n",
       "      <td>19.312500</td>\n",
       "      <td>16.458333</td>\n",
       "      <td>0.242833</td>\n",
       "      <td>0.299479</td>\n",
       "      <td>0.381708</td>\n",
       "      <td>2475987</td>\n",
       "    </tr>\n",
       "  </tbody>\n",
       "</table>\n",
       "</div>"
      ],
      "text/plain": [
       "  Pos   Avg Runs    Avg RBI    Avg BA   Avg OBP   Avg SLG  Avg Salary\n",
       "0  1B  16.809524  18.238095  0.213968  0.292286  0.388048     5800920\n",
       "1  2B  14.590476  12.428571  0.235019  0.299457  0.359505     2823025\n",
       "2  3B  15.561404  15.771930  0.219088  0.303123  0.370263     4676913\n",
       "3   C   7.714286   8.419048  0.221914  0.296771  0.367019     1525453\n",
       "4  DH  11.000000  12.809524  0.193905  0.284048  0.364333    11165000\n",
       "5  OF  13.542453  12.537736  0.216255  0.297722  0.362566     3332529\n",
       "6  SS  19.312500  16.458333  0.242833  0.299479  0.381708     2475987"
      ]
     },
     "execution_count": 3,
     "metadata": {},
     "output_type": "execute_result"
    }
   ],
   "source": [
    "Player_df"
   ]
  },
  {
   "cell_type": "code",
   "execution_count": 4,
   "metadata": {},
   "outputs": [
    {
     "data": {
      "text/plain": [
       "array([[<matplotlib.axes._subplots.AxesSubplot object at 0x0A9503A0>,\n",
       "        <matplotlib.axes._subplots.AxesSubplot object at 0x0AFE4DA8>,\n",
       "        <matplotlib.axes._subplots.AxesSubplot object at 0x0B0077C0>,\n",
       "        <matplotlib.axes._subplots.AxesSubplot object at 0x0B0281C0>,\n",
       "        <matplotlib.axes._subplots.AxesSubplot object at 0x0B03BB98>,\n",
       "        <matplotlib.axes._subplots.AxesSubplot object at 0x0B05D538>],\n",
       "       [<matplotlib.axes._subplots.AxesSubplot object at 0x0B05D5B0>,\n",
       "        <matplotlib.axes._subplots.AxesSubplot object at 0x0B070FB8>,\n",
       "        <matplotlib.axes._subplots.AxesSubplot object at 0x0B0B0370>,\n",
       "        <matplotlib.axes._subplots.AxesSubplot object at 0x0B0C3D48>,\n",
       "        <matplotlib.axes._subplots.AxesSubplot object at 0x0B0E6748>,\n",
       "        <matplotlib.axes._subplots.AxesSubplot object at 0x0B105148>],\n",
       "       [<matplotlib.axes._subplots.AxesSubplot object at 0x0B118B20>,\n",
       "        <matplotlib.axes._subplots.AxesSubplot object at 0x0B139520>,\n",
       "        <matplotlib.axes._subplots.AxesSubplot object at 0x0B14CEF8>,\n",
       "        <matplotlib.axes._subplots.AxesSubplot object at 0x0B16E8F8>,\n",
       "        <matplotlib.axes._subplots.AxesSubplot object at 0x0B18F310>,\n",
       "        <matplotlib.axes._subplots.AxesSubplot object at 0x0B1A3CE8>],\n",
       "       [<matplotlib.axes._subplots.AxesSubplot object at 0x0B1C26E8>,\n",
       "        <matplotlib.axes._subplots.AxesSubplot object at 0x0B1E40E8>,\n",
       "        <matplotlib.axes._subplots.AxesSubplot object at 0x0B1F7AC0>,\n",
       "        <matplotlib.axes._subplots.AxesSubplot object at 0x0B2184C0>,\n",
       "        <matplotlib.axes._subplots.AxesSubplot object at 0x0B22BE98>,\n",
       "        <matplotlib.axes._subplots.AxesSubplot object at 0x0B24A8B0>],\n",
       "       [<matplotlib.axes._subplots.AxesSubplot object at 0x0B26B2B0>,\n",
       "        <matplotlib.axes._subplots.AxesSubplot object at 0x0B27FC88>,\n",
       "        <matplotlib.axes._subplots.AxesSubplot object at 0x0B29F688>,\n",
       "        <matplotlib.axes._subplots.AxesSubplot object at 0x0B2B68B0>,\n",
       "        <matplotlib.axes._subplots.AxesSubplot object at 0x0B2D4A60>,\n",
       "        <matplotlib.axes._subplots.AxesSubplot object at 0x0B2F5490>],\n",
       "       [<matplotlib.axes._subplots.AxesSubplot object at 0x0B309CA0>,\n",
       "        <matplotlib.axes._subplots.AxesSubplot object at 0x0B322880>,\n",
       "        <matplotlib.axes._subplots.AxesSubplot object at 0x0B347418>,\n",
       "        <matplotlib.axes._subplots.AxesSubplot object at 0x0B3607A8>,\n",
       "        <matplotlib.axes._subplots.AxesSubplot object at 0x0B376B50>,\n",
       "        <matplotlib.axes._subplots.AxesSubplot object at 0x0B38FEE0>]],\n",
       "      dtype=object)"
      ]
     },
     "execution_count": 4,
     "metadata": {},
     "output_type": "execute_result"
    },
    {
     "data": {
      "image/png": "[encoded data removed]",
      "text/plain": [
       "<Figure size 432x288 with 36 Axes>"
      ]
     },
     "metadata": {
      "needs_background": "light"
     },
     "output_type": "display_data"
    }
   ],
   "source": [
    "pd.plotting.scatter_matrix(Player_df)"
   ]
  },
  {
   "cell_type": "code",
   "execution_count": 5,
   "metadata": {},
   "outputs": [],
   "source": [
    "OLS = LinearRegression()"
   ]
  },
  {
   "cell_type": "code",
   "execution_count": 6,
   "metadata": {},
   "outputs": [
    {
     "data": {
      "text/plain": [
       "LinearRegression()"
      ]
     },
     "execution_count": 6,
     "metadata": {},
     "output_type": "execute_result"
    }
   ],
   "source": [
    "OLS.fit(Player_df[[\"Avg Runs\",\"Avg RBI\",\"Avg BA\", \"Avg OBP\", \"Avg SLG\"]],Player_df[\"Avg Salary\"])"
   ]
  },
  {
   "cell_type": "code",
   "execution_count": 7,
   "metadata": {},
   "outputs": [
    {
     "name": "stdout",
     "output_type": "stream",
     "text": [
      "OLS.intercept = 168201479.96752533\n"
     ]
    }
   ],
   "source": [
    "print(\"OLS.intercept =\",OLS.intercept_)"
   ]
  },
  {
   "cell_type": "code",
   "execution_count": 8,
   "metadata": {},
   "outputs": [
    {
     "name": "stdout",
     "output_type": "stream",
     "text": [
      "OLS.coef_ = [-4.73966515e+05  1.21404971e+06 -1.45257443e+07 -3.41728126e+08\n",
      " -1.87198311e+08]\n"
     ]
    }
   ],
   "source": [
    "print(\"OLS.coef_ =\", OLS.coef_)"
   ]
  },
  {
   "cell_type": "code",
   "execution_count": 9,
   "metadata": {},
   "outputs": [
    {
     "data": {
      "text/plain": [
       "0.9412717734402434"
      ]
     },
     "execution_count": 9,
     "metadata": {},
     "output_type": "execute_result"
    }
   ],
   "source": [
    "OLS.score(Player_df[[\"Avg Runs\",\"Avg RBI\",\"Avg BA\", \"Avg OBP\", \"Avg SLG\"]],Player_df[\"Avg Salary\"])"
   ]
  },
  {
   "cell_type": "code",
   "execution_count": 10,
   "metadata": {},
   "outputs": [],
   "source": [
    "yhat = OLS.predict(Player_df[[\"Avg Runs\",\"Avg RBI\",\"Avg BA\", \"Avg OBP\", \"Avg SLG\"]])"
   ]
  },
  {
   "cell_type": "code",
   "execution_count": 11,
   "metadata": {},
   "outputs": [],
   "source": [
    "residuals = Player_df['Avg Salary'] - yhat"
   ]
  },
  {
   "cell_type": "code",
   "execution_count": 12,
   "metadata": {},
   "outputs": [
    {
     "data": {
      "text/plain": [
       "((array([-1.31487275, -0.74397649, -0.3471943 ,  0.        ,  0.3471943 ,\n",
       "          0.74397649,  1.31487275]),\n",
       "  array([-943206.66406688, -918827.94512537, -506522.38643661,\n",
       "          103104.02102056,  712008.96920636,  769695.01421759,\n",
       "          783748.99118456])),\n",
       " (821914.6676595102, 2.9802322387695312e-08, 0.9348656793156276))"
      ]
     },
     "execution_count": 12,
     "metadata": {},
     "output_type": "execute_result"
    },
    {
     "data": {
      "image/png": "[encoded data removed]",
      "text/plain": [
       "<Figure size 432x288 with 1 Axes>"
      ]
     },
     "metadata": {
      "needs_background": "light"
     },
     "output_type": "display_data"
    }
   ],
   "source": [
    "probplot(residuals,plot=plt)"
   ]
  },
  {
   "cell_type": "code",
   "execution_count": 26,
   "metadata": {},
   "outputs": [
    {
     "data": {
      "text/plain": [
       "Text(0.5, 0, 'Predicted Salary')"
      ]
     },
     "execution_count": 26,
     "metadata": {},
     "output_type": "execute_result"
    },
    {
     "data": {
      "image/png": "[encoded data removed]",
      "text/plain": [
       "<Figure size 432x288 with 1 Axes>"
      ]
     },
     "metadata": {
      "needs_background": "light"
     },
     "output_type": "display_data"
    }
   ],
   "source": [
    "plt.figure()\n",
    "plt.scatter([-4.73966515e+05 * Player_df['Avg Runs'] + 1.21404971e+06 * Player_df['Avg RBI'] -1.45257443e+07 * Player_df['Avg BA']-3.41728126e+08 * Player_df['Avg OBP']\n",
    " -1.87198311e+08* Player_df['Avg SLG']], Player_df[\"Avg Salary\"])\n",
    "plt.title(\"Relative salary vs Predicted Value\")\n",
    "plt.ylabel(\"Relative Salary\")\n",
    "plt.xlabel(\"Predicted Salary\")"
   ]
  },
  {
   "cell_type": "code",
   "execution_count": null,
   "metadata": {},
   "outputs": [],
   "source": []
  },
  {
   "cell_type": "code",
   "execution_count": null,
   "metadata": {},
   "outputs": [],
   "source": []
  }
 ],
 "metadata": {
  "kernelspec": {
   "display_name": "Python 3",
   "language": "python",
   "name": "python3"
  },
  "language_info": {
   "codemirror_mode": {
    "name": "ipython",
    "version": 3
   },
   "file_extension": ".py",
   "mimetype": "text/x-python",
   "name": "python",
   "nbconvert_exporter": "python",
   "pygments_lexer": "ipython3",
   "version": "3.8.3"
  }
 },
 "nbformat": 4,
 "nbformat_minor": 4
}
